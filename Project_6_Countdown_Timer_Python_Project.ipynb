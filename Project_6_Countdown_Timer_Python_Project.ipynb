{
  "nbformat": 4,
  "nbformat_minor": 0,
  "metadata": {
    "colab": {
      "provenance": [],
      "authorship_tag": "ABX9TyOdEuU2yN4n1D/6Hgt65pGF",
      "include_colab_link": true
    },
    "kernelspec": {
      "name": "python3",
      "display_name": "Python 3"
    },
    "language_info": {
      "name": "python"
    }
  },
  "cells": [
    {
      "cell_type": "markdown",
      "metadata": {
        "id": "view-in-github",
        "colab_type": "text"
      },
      "source": [
        "<a href=\"https://colab.research.google.com/github/Abdullahkhan90/Project-6-Countdown-Timer-Python-Project/blob/main/Project_6_Countdown_Timer_Python_Project.ipynb\" target=\"_parent\"><img src=\"https://colab.research.google.com/assets/colab-badge.svg\" alt=\"Open In Colab\"/></a>"
      ]
    },
    {
      "cell_type": "markdown",
      "source": [
        "### ***Project 6: Countdown Timer Python Project***"
      ],
      "metadata": {
        "id": "t8qg_4G6a84d"
      }
    },
    {
      "cell_type": "code",
      "source": [
        "import time\n",
        "from IPython.display import clear_output\n",
        "\n",
        "def countdown_timer(seconds):\n",
        "    while seconds:\n",
        "        mins, secs = divmod(seconds, 60)\n",
        "        time_format = '{:02d}:{:02d}'.format(mins, secs)\n",
        "\n",
        "        clear_output(wait=True)\n",
        "        print(time_format, end='', flush=True)\n",
        "\n",
        "        time.sleep(1)\n",
        "        seconds -= 1\n",
        "\n",
        "    clear_output(wait=True)\n",
        "    print(\"00:00 \\nTime's up!\")\n",
        "\n",
        "# User Input For Timer\n",
        "total_seconds = int(input(\"Enter the time in seconds for countdown: \"))\n",
        "countdown_timer(total_seconds)\n"
      ],
      "metadata": {
        "colab": {
          "base_uri": "https://localhost:8080/"
        },
        "id": "5IN5g8AOceMO",
        "outputId": "91287da3-71d6-450d-a484-81d53856ddff"
      },
      "execution_count": null,
      "outputs": [
        {
          "output_type": "stream",
          "name": "stdout",
          "text": [
            "00:03"
          ]
        }
      ]
    }
  ]
}